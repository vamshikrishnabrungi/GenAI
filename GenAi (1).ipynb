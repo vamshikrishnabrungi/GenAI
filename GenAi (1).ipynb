{
  "nbformat": 4,
  "nbformat_minor": 0,
  "metadata": {
    "colab": {
      "provenance": []
    },
    "kernelspec": {
      "name": "python3",
      "display_name": "Python 3"
    },
    "language_info": {
      "name": "python"
    }
  },
  "cells": [
    {
      "cell_type": "code",
      "source": [
        "!pip install --upgrade openai\n"
      ],
      "metadata": {
        "colab": {
          "base_uri": "https://localhost:8080/"
        },
        "id": "hd39nm_20Ish",
        "outputId": "befb1344-d7cd-4ff9-93fd-e6a39403d45f"
      },
      "execution_count": 16,
      "outputs": [
        {
          "output_type": "stream",
          "name": "stdout",
          "text": [
            "Requirement already satisfied: openai in /usr/local/lib/python3.10/dist-packages (1.13.3)\n",
            "Requirement already satisfied: anyio<5,>=3.5.0 in /usr/local/lib/python3.10/dist-packages (from openai) (3.7.1)\n",
            "Requirement already satisfied: distro<2,>=1.7.0 in /usr/lib/python3/dist-packages (from openai) (1.7.0)\n",
            "Requirement already satisfied: httpx<1,>=0.23.0 in /usr/local/lib/python3.10/dist-packages (from openai) (0.27.0)\n",
            "Requirement already satisfied: pydantic<3,>=1.9.0 in /usr/local/lib/python3.10/dist-packages (from openai) (2.6.3)\n",
            "Requirement already satisfied: sniffio in /usr/local/lib/python3.10/dist-packages (from openai) (1.3.1)\n",
            "Requirement already satisfied: tqdm>4 in /usr/local/lib/python3.10/dist-packages (from openai) (4.66.2)\n",
            "Requirement already satisfied: typing-extensions<5,>=4.7 in /usr/local/lib/python3.10/dist-packages (from openai) (4.10.0)\n",
            "Requirement already satisfied: idna>=2.8 in /usr/local/lib/python3.10/dist-packages (from anyio<5,>=3.5.0->openai) (3.6)\n",
            "Requirement already satisfied: exceptiongroup in /usr/local/lib/python3.10/dist-packages (from anyio<5,>=3.5.0->openai) (1.2.0)\n",
            "Requirement already satisfied: certifi in /usr/local/lib/python3.10/dist-packages (from httpx<1,>=0.23.0->openai) (2024.2.2)\n",
            "Requirement already satisfied: httpcore==1.* in /usr/local/lib/python3.10/dist-packages (from httpx<1,>=0.23.0->openai) (1.0.4)\n",
            "Requirement already satisfied: h11<0.15,>=0.13 in /usr/local/lib/python3.10/dist-packages (from httpcore==1.*->httpx<1,>=0.23.0->openai) (0.14.0)\n",
            "Requirement already satisfied: annotated-types>=0.4.0 in /usr/local/lib/python3.10/dist-packages (from pydantic<3,>=1.9.0->openai) (0.6.0)\n",
            "Requirement already satisfied: pydantic-core==2.16.3 in /usr/local/lib/python3.10/dist-packages (from pydantic<3,>=1.9.0->openai) (2.16.3)\n"
          ]
        }
      ]
    },
    {
      "cell_type": "code",
      "execution_count": 21,
      "metadata": {
        "colab": {
          "base_uri": "https://localhost:8080/"
        },
        "id": "ydPrOqZVz5jy",
        "outputId": "c79b511e-5f24-4a60-8d79-72c247606d68"
      },
      "outputs": [
        {
          "output_type": "stream",
          "name": "stdout",
          "text": [
            "Drive already mounted at /content/drive; to attempt to forcibly remount, call drive.mount(\"/content/drive\", force_remount=True).\n"
          ]
        }
      ],
      "source": [
        "from google.colab import drive\n",
        "from openai import OpenAI\n",
        "\n",
        "# Mount Google Drive\n",
        "drive.mount('/content/drive')\n",
        "\n",
        "# Read the API key from a file in your Google Drive\n",
        "api_key_path = '/content/drive/MyDrive/api_keys/openai_api_key.txt'\n",
        "with open(api_key_path, 'r', encoding='utf-8-sig') as file:\n",
        "    api_key = file.read().strip()\n",
        "\n",
        "\n",
        "\n"
      ]
    },
    {
      "cell_type": "code",
      "source": [
        "# Instantiate the OpenAI client with your API key\n",
        "client = OpenAI(api_key=api_key)\n",
        "\n"
      ],
      "metadata": {
        "id": "YwsUJjkN51gn"
      },
      "execution_count": 22,
      "outputs": []
    },
    {
      "cell_type": "code",
      "source": [
        "def generate_code(prompt, model=\"davinci-002\", temperature=0.5, max_tokens=100):\n",
        "    response = client.completions.create(\n",
        "        model=model,\n",
        "        prompt=prompt,\n",
        "        temperature=temperature,\n",
        "        max_tokens=max_tokens,\n",
        "        top_p=1.0,\n",
        "        frequency_penalty=0.0,\n",
        "        presence_penalty=0.0\n",
        "    )\n",
        "    return response.choices[0].text.strip()\n",
        "\n",
        "\n",
        "# Example prompt\n",
        "prompt = \"Write a Python function to add two numbers.\"\n",
        "generated_code = generate_code(prompt)\n",
        "\n",
        "print(\"Generated Code:\\n\", generated_code)"
      ],
      "metadata": {
        "colab": {
          "base_uri": "https://localhost:8080/"
        },
        "id": "7AmT_MAl55d_",
        "outputId": "c9bb9cb3-793f-48d5-a4e9-2180ab887cd9"
      },
      "execution_count": 32,
      "outputs": [
        {
          "output_type": "stream",
          "name": "stdout",
          "text": [
            "Generated Code:\n",
            " The numbers are stored in two separate variables. The function should return the sum of the two numbers as a result.\n",
            "\n",
            "def add(a,b):\n",
            "    total = a+b\n",
            "    return total\n",
            "\n",
            "add(3,4)\n",
            "\n",
            "The output of the program is:\n",
            "\n",
            "7\n",
            "\n",
            "In this example, the first line of the code is the function, and it takes two arguments (a and b). The second line of the code is the body of the function. The third line of the code is the return statement\n"
          ]
        }
      ]
    },
    {
      "cell_type": "code",
      "source": [
        "def generate_code1(prompt, model=\"davinci-002\", temperature=0.3, max_tokens=100):\n",
        "    response = client.completions.create(\n",
        "        model=model,\n",
        "        prompt=prompt,\n",
        "        temperature=temperature,\n",
        "        max_tokens=max_tokens,\n",
        "        top_p=1.0,\n",
        "        frequency_penalty=0.0,\n",
        "        presence_penalty=0.0\n",
        "    )\n",
        "    return response.choices[0].text.strip()\n",
        "\n",
        "\n",
        "# Example prompt\n",
        "prompt = \"Create a Python class to represent a bank account. It should support deposit, withdrawal, and balance check methods, with an initial balance provided at the time of account creation.\"\n",
        "generated_code = generate_code1(prompt)\n",
        "\n",
        "print(\"Generated Code:\\n\", generated_code)"
      ],
      "metadata": {
        "colab": {
          "base_uri": "https://localhost:8080/"
        },
        "id": "Uw7qxY5p_ffw",
        "outputId": "8015cd7a-e7b2-4a44-8261-2ac4c0aed13b"
      },
      "execution_count": 49,
      "outputs": [
        {
          "output_type": "stream",
          "name": "stdout",
          "text": [
            "Generated Code:\n",
            " You can use the following methods to calculate the balance:\n",
            "\n",
            "def deposit(self, amount):\n",
            "    self.balance += amount\n",
            "\n",
            "def withdraw(self, amount):\n",
            "    self.balance -= amount\n",
            "\n",
            "def balance(self):\n",
            "    return self.balance\n",
            "\n",
            "def __init__(self, initial_balance):\n",
            "    self.balance = initial_balance\n",
            "\n",
            "Create a main() function that creates a BankAccount object and calls the deposit and withdraw methods. Your program should print the balance after each method call.\n",
            "\n",
            "# Create a BankAccount object and call the deposit\n"
          ]
        }
      ]
    }
  ]
}